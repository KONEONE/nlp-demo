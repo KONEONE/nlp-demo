{
 "cells": [
  {
   "cell_type": "markdown",
   "id": "f697a9e1",
   "metadata": {},
   "source": [
    "## 图自动编码器GAE & 变分图自动编码器VGAE\n",
    "### GAE的核心原理  \n",
    "GAE是一种基于图卷积网络的无监督学习框架，通过编码-解码结构学习节点的低维嵌入表示，并重构图结构信息。  \n",
    "#### 编码器\n",
    "* 使用2层GCN将节点特征和图结构映射为低维嵌入：\n",
    "$$\n",
    "Z = GCN(X, A) = \\sigma(\\tilde{A} * ReLU(\\tilde{A}XW_{0})W_{1})\n",
    "$$\n",
    "其中：\n",
    "1. $\\tilde{A}=D^{-\\frac{1}{2}}AD^{-\\frac{1}{2}}$为对称归一化邻接矩阵\n",
    "2. X是节点特征矩阵，A是邻接矩阵\n",
    "3. $W_{0}, W_{1}$为可学习参数\n",
    "* 输出为确定性节点嵌入Z，每个节点对应一个固定向量\n",
    "#### 解码器\n",
    "* 通过节点嵌入的内积重构邻接矩阵  \n",
    "$$\n",
    "\\tilde{A} = \\sigma(ZZ^T)\n",
    "$$\n",
    "1. $\\sigma$为sigmoid函数，$\\tilde{A_{ij}}$表示节点i和节点j之间边存在的概率  \n",
    "#### 损失函数  \n",
    "* 最小化原始邻接矩阵A和重构矩阵$\\tilde{A}$的交叉熵：  \n",
    "$$\n",
    "L{GAE} = - \\sum_{i, j}[A_{ij}log{\\tilde{A_{ij}}}+(1-A_{ij})log(1-\\tilde{A_{ij}})]\n",
    "$$"
   ]
  },
  {
   "cell_type": "code",
   "execution_count": 9,
   "id": "49b00584",
   "metadata": {},
   "outputs": [],
   "source": [
    "import torch\n",
    "from torch_geometric.datasets import Planetoid\n",
    "import torch_geometric.transforms as T\n",
    "from torch_geometric.nn import GCNConv\n",
    "from torch_geometric.utils import train_test_split_edges\n",
    "from torch_geometric.nn import GAE"
   ]
  },
  {
   "cell_type": "code",
   "execution_count": 10,
   "id": "67076fe2",
   "metadata": {},
   "outputs": [],
   "source": [
    "# 编码器\n",
    "class GCNEncoder(torch.nn.Module):\n",
    "    def __init__(self, in_channels, out_channels):\n",
    "        super(GCNEncoder, self).__init__()\n",
    "        self.conv1 = GCNConv(in_channels, 2*out_channels, cached=True)\n",
    "        self.conv2 = GCNConv(2*out_channels, out_channels, cached=True)\n",
    "    def forward(self, x, edge_index):\n",
    "        x = self.conv1(x, edge_index).relu()\n",
    "        return self.conv2(x, edge_index)"
   ]
  },
  {
   "cell_type": "code",
   "execution_count": 11,
   "id": "8ff9293f",
   "metadata": {},
   "outputs": [],
   "source": [
    "out_channels = 2 # 输出：真假\n",
    "num_features = 100 # 节点特征\n",
    "epochs = 100\n",
    "\n",
    "model = GAE(GCNEncoder(num_features, out_channels))\n",
    "\n",
    "# move to GPU\n",
    "device = torch.device('cuda' if torch.cuda.is_available() else 'cpu')\n",
    "model = model.to(device)\n",
    "\n",
    "# 初始化 optimizer\n",
    "optimizer = torch.optim.Adam(model.parameters(), lr=0.01)"
   ]
  },
  {
   "cell_type": "code",
   "execution_count": 5,
   "id": "0872c182",
   "metadata": {},
   "outputs": [],
   "source": [
    "import os.path as osp\n",
    "import torch\n",
    "import torch.nn.functional as F\n",
    "from sklearn.cluster import KMeans\n",
    "from sklearn.metrics.cluster import (v_measure_score, homogeneity_score, completeness_score)\n",
    "from sklearn.manifold import TSNE\n",
    "import matplotlib.pyplot as plt\n",
    "import torch_geometric.transforms as T\n",
    "from torch_geometric.datasets import Planetoid\n",
    "from torch_geometric.nn import GCNConv\n",
    "from torch_geometric.nn.models.autoencoder import ARGVA\n",
    "from torch_geometric.utils import train_test_split_edges"
   ]
  },
  {
   "cell_type": "code",
   "execution_count": null,
   "id": "a045ecc4",
   "metadata": {},
   "outputs": [],
   "source": [
    "class VEncoder(torch.nn.Module):\n",
    "    def __init__(self, in_channels, out_channels):\n",
    "        super(VEncoder, self).__init__()\n",
    "        # 第一层：输入特征向量 -> 2倍潜在空间维度（为均值和方差分值提供共享特征）\n",
    "        self.conv1 = GCNConv(in_channels, 2*out_channels, cached=True)\n",
    "        # 均值分支：将中间特征映射到空间均值向量\n",
    "        self.conv_mu = GCNConv(2*out_channels, out_channels, cached=True)\n",
    "        # 方差分支：将中间特征映射到潜在对数标准差向量\n",
    "        self.conv_logstd = GCNConv(2*out_channels, out_channels, cached=True)\n",
    "\n",
    "    def forward(self, x, edge_index):\n",
    "        x = F.relu(self.conv1(x, edge_index))\n",
    "        return self.conv_mu(x, edge_index), self.conv_logstd(x, edge_index)"
   ]
  },
  {
   "cell_type": "code",
   "execution_count": null,
   "id": "1a7cf36c",
   "metadata": {},
   "outputs": [],
   "source": [
    "# 解码器\n",
    "class Discriminator(torch.nn.Module):\n",
    "    def __init__(self, in_channels, hidden_channels, out_channels):\n",
    "        super(Discriminator, self).__init__()\n",
    "        # 第1层全连接：输入维度 -> 隐藏层维度\n",
    "        self.lin1 = torch.nn.Linear(in_channels, hidden_channels)\n",
    "        # 第2层全连接：隐藏层 -> 隐藏层\n",
    "        self.lin2 = torch.nn.Linear(hidden_channels, hidden_channels)\n",
    "        # 输出层： 隐藏层 -> 判别结果维度（如真假分类）\n",
    "        self.lin3 = torch.nn.Linear(hidden_channels, out_channels)\n",
    "    \n",
    "    def forward(self, x):\n",
    "        x = F.relu(self.lin1(x))\n",
    "        x = F.relu(self.lin2(x))\n",
    "        x = self.lin3(x)\n",
    "        return x\n"
   ]
  },
  {
   "cell_type": "markdown",
   "id": "5a1c6777",
   "metadata": {},
   "source": [
    "#### 初始化模型"
   ]
  },
  {
   "cell_type": "code",
   "execution_count": 16,
   "id": "25235387",
   "metadata": {},
   "outputs": [],
   "source": [
    "num_features = 1000\n",
    "latent_size = 32\n",
    "\n",
    "# 编码器\n",
    "encoder = VEncoder(num_features, out_channels=latent_size)\n",
    "# 解码器\n",
    "discriminator = Discriminator(in_channels=latent_size, hidden_channels=64, out_channels=1)\n",
    "\n",
    "# 模型\n",
    "model = ARGVA(encoder, discriminator)\n",
    "\n",
    "# 定义优化器\n",
    "discriminator_optimizer = torch.optim.Adam(discriminator.parameters(), lr=0.001)\n",
    "encoder_optimizer = torch.optim.Adam(encoder.parameters(), lr=0.005)"
   ]
  },
  {
   "cell_type": "code",
   "execution_count": null,
   "id": "c852ad14",
   "metadata": {},
   "outputs": [],
   "source": []
  },
  {
   "cell_type": "markdown",
   "id": "62d3f831",
   "metadata": {},
   "source": [
    "### VGAE的核心原理  \n",
    "VGAE在GAE基础上引入了变分推断，将节点嵌入视作概率分布（高斯分布），通过采样生成嵌入以捕捉数据不确定性  \n",
    "#### 编码器\n",
    "* 使用两个共享第一层权重的GCN分别输出均值和方差：\n",
    "$$\n",
    "u = GCN_{u}(X, A),\\ log_{\\sigma} = GCN_{\\sigma}(X, A)\n",
    "$$\n",
    "* 节点嵌入$z_i$从后验分布采样：  \n",
    "$$\n",
    "q(z_{i}|X, A) = N(u_{i}, diag(\\sigma^{2}_{i}))\n",
    "$$\n",
    "1. 通过重参数化技巧实现梯度传播：$z_{i} = u_{i} + \\sigma_{i}\\odot\\epsilon $,$\\epsilon ~ N(0, I)$\n",
    "#### 解码器  \n",
    "* 与GAE相同，通过内积计算边概率：  \n",
    "$$\n",
    "p(A_{ij}=1|z_{i}, z_{j}) = \\sigma(z^{T}_{i}, z_{j})\n",
    "$$\n",
    "1. 重构邻接矩阵时，直接使用采样后的嵌入Z\n",
    "#### 损失函数\n",
    "* 最大化证据下届，包含重构损失函数和KL散度：  \n",
    "$$\n",
    "L_{VGAE} = E_{q(Z|X,A)}[logp(A|Z)]-KL[q(Z|X,A)||p(Z)]\n",
    "$$\n",
    "1. $p(Z)=\\sum_{i}N(z_{i}|0,I)$为先验分布（标准高斯）\n",
    "2. KL散度约束后验分布接近先验，避免过拟合"
   ]
  },
  {
   "cell_type": "code",
   "execution_count": 12,
   "id": "0e5034bb",
   "metadata": {},
   "outputs": [],
   "source": [
    "from torch_geometric.nn import VGAE"
   ]
  },
  {
   "cell_type": "code",
   "execution_count": 14,
   "id": "5a437887",
   "metadata": {},
   "outputs": [],
   "source": [
    "class VariationalGCNEncoder(torch.nn.Module):\n",
    "    def __init__(self, in_channels, out_channels):\n",
    "        super(VariationalGCNEncoder, self).__init__()\n",
    "        self.conv1 = GCNConv(in_channels, 2*out_channels, cached=True)\n",
    "        self.conv_mu = GCNConv(2*out_channels, out_channels, cached=True)\n",
    "        self.conv_logstd = GCNConv(2*out_channels, out_channels, cached=True)\n",
    "    \n",
    "    def forward(self, x, edge_index):\n",
    "        x = self.conv1(x, edge_index).relu()\n",
    "        return self.conv_mu(x, edge_index), self.conv_logstd(x, edge_index)"
   ]
  },
  {
   "cell_type": "code",
   "execution_count": 15,
   "id": "178cedeb",
   "metadata": {},
   "outputs": [],
   "source": [
    "out_channels = 2\n",
    "num_features = 100\n",
    "epochs = 300\n",
    "\n",
    "model = VGAE(VariationalGCNEncoder(num_features, out_channels))\n",
    "optimizer = torch.optim.Adam(model.parameters(), lr=0.01)"
   ]
  },
  {
   "cell_type": "code",
   "execution_count": null,
   "id": "49359c68",
   "metadata": {},
   "outputs": [],
   "source": []
  }
 ],
 "metadata": {
  "kernelspec": {
   "display_name": "dl_env",
   "language": "python",
   "name": "python3"
  },
  "language_info": {
   "codemirror_mode": {
    "name": "ipython",
    "version": 3
   },
   "file_extension": ".py",
   "mimetype": "text/x-python",
   "name": "python",
   "nbconvert_exporter": "python",
   "pygments_lexer": "ipython3",
   "version": "3.10.14"
  }
 },
 "nbformat": 4,
 "nbformat_minor": 5
}

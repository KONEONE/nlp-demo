{
 "cells": [
  {
   "cell_type": "markdown",
   "id": "58abf83d",
   "metadata": {},
   "source": [
    "# 卷积层-频谱方法\n",
    "大纲：  \n",
    "1. 机器学习中卷积的原因。\n",
    "2. 卷积的一些理论。\n",
    "3. 图上的卷积。\n",
    "4. Pytorch Geometric 中的频谱卷积。"
   ]
  },
  {
   "cell_type": "code",
   "execution_count": 1,
   "id": "29ca0c4f",
   "metadata": {},
   "outputs": [],
   "source": [
    "import numpy as np\n",
    "import torch\n",
    "import matplotlib.pyplot as plt\n",
    "\n",
    "plt.rcParams.update({'font.size':16})"
   ]
  },
  {
   "cell_type": "code",
   "execution_count": null,
   "id": "741e34d6",
   "metadata": {},
   "outputs": [],
   "source": []
  }
 ],
 "metadata": {
  "kernelspec": {
   "display_name": "dl_env",
   "language": "python",
   "name": "python3"
  },
  "language_info": {
   "codemirror_mode": {
    "name": "ipython",
    "version": 3
   },
   "file_extension": ".py",
   "mimetype": "text/x-python",
   "name": "python",
   "nbconvert_exporter": "python",
   "pygments_lexer": "ipython3",
   "version": "3.10.14"
  }
 },
 "nbformat": 4,
 "nbformat_minor": 5
}
